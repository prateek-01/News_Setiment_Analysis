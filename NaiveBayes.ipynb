{
  "nbformat": 4,
  "nbformat_minor": 0,
  "metadata": {
    "colab": {
      "name": "NaiveBayes.ipynb",
      "version": "0.3.2",
      "provenance": []
    },
    "kernelspec": {
      "name": "python3",
      "display_name": "Python 3"
    }
  },
  "cells": [
    {
      "cell_type": "markdown",
      "metadata": {
        "id": "view-in-github",
        "colab_type": "text"
      },
      "source": [
        "[View in Colaboratory](https://colab.research.google.com/github/prateek-01/News_Setiment_Analysis/blob/master/NaiveBayes.ipynb)"
      ]
    },
    {
      "metadata": {
        "id": "AuhEoeijwk6c",
        "colab_type": "code",
        "colab": {}
      },
      "cell_type": "code",
      "source": [
        "import numpy as np"
      ],
      "execution_count": 0,
      "outputs": []
    },
    {
      "metadata": {
        "id": "mAAkcZLyztim",
        "colab_type": "code",
        "colab": {}
      },
      "cell_type": "code",
      "source": [
        "def fit(X_train, Y_train):\n",
        "#  Returns a dictionary containing toal count of all values of a particular feature of a particular class\n",
        "  \n",
        "  result = {}\n",
        "  class_values = set(Y_train)\n",
        "  for current_class in class_values:\n",
        "    result[current_class] = {}\n",
        "    result['total_data'] = len(Y_train)\n",
        "    current_class_rows =  ( y_train == current_class)\n",
        "    X_train_current = X_train[current_class_rows]\n",
        "    Y_train_current = Y_train[current_class_rows]\n",
        "    \n",
        "    num_features = X_train.shape[1]\n",
        "    \n",
        "    result[current_class]['total_count'] = len(Y_train_current)\n",
        "    \n",
        "    for j in range(1, num_features+1):\n",
        "      result[current_class][j] = {}\n",
        "      all_possible_values = set(X_train[:,j])\n",
        "      for current_value in all_possible_values:\n",
        "        result[current_class][j][current_value] = (X_train_current[:,j] == current_value).sum()\n",
        "      \n",
        "      \n",
        "      \n",
        "  "
      ],
      "execution_count": 0,
      "outputs": []
    },
    {
      "metadata": {
        "id": "lYZp7Ci8B-fK",
        "colab_type": "code",
        "colab": {}
      },
      "cell_type": "code",
      "source": [
        "def predictSinglePoint(dictionary, x_test):\n",
        "  \n",
        "  "
      ],
      "execution_count": 0,
      "outputs": []
    },
    {
      "metadata": {
        "id": "MfxiO0QE_SPa",
        "colab_type": "code",
        "colab": {}
      },
      "cell_type": "code",
      "source": [
        "def predict(dictionary,X_test):\n",
        "  y_pred = []\n",
        "  for x in x_test:\n",
        "    x_class = predictSinglePoint(dictionary,x)\n",
        "    y_pred.append(x_class)\n",
        "    return y_pred\n",
        "\n",
        "  "
      ],
      "execution_count": 0,
      "outputs": []
    },
    {
      "metadata": {
        "id": "xHb5HKWI_SZO",
        "colab_type": "code",
        "colab": {}
      },
      "cell_type": "code",
      "source": [
        ""
      ],
      "execution_count": 0,
      "outputs": []
    },
    {
      "metadata": {
        "id": "b-qdw-Ih-0mq",
        "colab_type": "code",
        "colab": {}
      },
      "cell_type": "code",
      "source": [
        ""
      ],
      "execution_count": 0,
      "outputs": []
    }
  ]
}